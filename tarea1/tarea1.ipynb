{
 "cells": [
  {
   "cell_type": "markdown",
   "metadata": {},
   "source": [
    "<center>\n",
    "    <h1> INF477 - Redes Neuronales Artificiales  </h1>\n",
    "    <h2> Tarea #1: Perceptrones Multicapa o Redes FF </h2> \n",
    "</center>\n",
    "\n",
    "Tarea realizada por:\n",
    "* Alvaro Salinas - `alvaro.salinase@gmail.com` - **rol:** 201073001-8\n",
    "* Martín Villanueva - `martin.villanueva@alumnos.usm.cl` - **rol:** 201104012-0\n",
    "\n",
    "_DI UTFSM. Septiembre 2016._"
   ]
  },
  {
   "cell_type": "code",
   "execution_count": 165,
   "metadata": {
    "collapsed": false
   },
   "outputs": [],
   "source": [
    "import numpy as np\n",
    "import matplotlib.pyplot as plt\n",
    "import pandas as pd\n",
    "\n",
    "from keras.models import Sequential\n",
    "from keras.layers import Dense, Activation\n",
    "from keras.optimizers import SGD"
   ]
  },
  {
   "cell_type": "markdown",
   "metadata": {},
   "source": [
    "## Table de Contenidos\n",
    "* [El XOR](#xor)\n",
    "    * [Parte a)](#a)\n",
    "    * [Parte b)](#b)\n",
    "    * [Parte c)](#c)\n",
    "* [Predicción del precio de una casa](#pred)\n",
    "* [Reconocimiento de imágenes en CIFAR10](#rec)\n"
   ]
  },
  {
   "cell_type": "markdown",
   "metadata": {
    "collapsed": true
   },
   "source": [
    "<div id='xor' />\n",
    "## 1.-  El XOR"
   ]
  },
  {
   "cell_type": "markdown",
   "metadata": {},
   "source": [
    "<div id='a' />\n",
    "### Parte a)"
   ]
  },
  {
   "cell_type": "code",
   "execution_count": 251,
   "metadata": {
    "collapsed": false
   },
   "outputs": [],
   "source": [
    "# for reproducibility of experiments\n",
    "np.random.seed(2)\n",
    "\n",
    "def xor_generator(m):\n",
    "    \"\"\"\n",
    "    m: number of points to generate\n",
    "    \"\"\"\n",
    "    # generate m random points on [-1,1]x[-1,1]\n",
    "    X = 2.*np.random.random(m)-1.\n",
    "    Y = 2.*np.random.random(m)-1. \n",
    "    \n",
    "    # arrangement to cluster the points\n",
    "    x_mask = X>0.\n",
    "    y_mask = Y>0.\n",
    "    X[x_mask] *= 0.8; X[x_mask] += 0.1\n",
    "    X[~x_mask] *= 0.8; X[~x_mask] -= 0.1\n",
    "    Y[y_mask] *= 0.8; Y[y_mask] += 0.1\n",
    "    Y[~y_mask] *= 0.8; Y[~y_mask] -= 0.1    \n",
    "    XY = np.vstack([X,Y]).T\n",
    "    \n",
    "    # generating the labels\n",
    "    y = np.zeros(m, dtype=np.int)\n",
    "    mask = np.multiply.reduce(XY, axis=1) > 0.\n",
    "    y[mask] = 1\n",
    "    return (XY, y)\n",
    "\n",
    "def xor_plot(X,y):\n",
    "    X0 = X[y==0]\n",
    "    X1 = X[y==1]\n",
    "    plt.figure(figsize=(7,7))\n",
    "    plt.scatter(X0[:,0], X0[:,1], c='b')\n",
    "    plt.scatter(X1[:,0], X1[:,1], c='r')\n",
    "    plt.plot((-1.1,1.1),(0,0),'k--')\n",
    "    plt.plot((0,0),(-1.1,1.1),'k--')\n",
    "    plt.xlim([-1.1,1.1])\n",
    "    plt.ylim([-1.1,1.1])\n",
    "    plt.show()"
   ]
  },
  {
   "cell_type": "code",
   "execution_count": 252,
   "metadata": {
    "collapsed": false
   },
   "outputs": [
    {
     "data": {
      "image/png": "[encoded data removed]",
      "text/plain": [
       "<matplotlib.figure.Figure at 0x7f8f83b1a650>"
      ]
     },
     "metadata": {},
     "output_type": "display_data"
    }
   ],
   "source": [
    "X,y = xor_generator(200)\n",
    "xor_plot(X,y)"
   ]
  },
  {
   "cell_type": "markdown",
   "metadata": {},
   "source": [
    "<div id='b' />\n",
    "### Parte b)"
   ]
  },
  {
   "cell_type": "code",
   "execution_count": 253,
   "metadata": {
    "collapsed": false
   },
   "outputs": [],
   "source": [
    "model0 = Sequential()\n",
    "model0.add(Dense(output_dim=1, input_dim=2, activation='sigmoid', init='normal'))\n",
    "#model0.add(Dense(output_dim=1, activation='softmax'))\n",
    "model0.compile(loss='binary_crossentropy', optimizer='adam', metrics=['accuracy'])\n",
    "#model0.compile(loss='categorical_crossentropy', optimizer='sgd', metrics=['accuracy'])"
   ]
  },
  {
   "cell_type": "code",
   "execution_count": 254,
   "metadata": {
    "collapsed": false,
    "scrolled": true
   },
   "outputs": [
    {
     "data": {
      "text/plain": [
       "<keras.callbacks.History at 0x7f8f83c1bf10>"
      ]
     },
     "execution_count": 254,
     "metadata": {},
     "output_type": "execute_result"
    }
   ],
   "source": [
    "model0.fit(X, y, nb_epoch=200, verbose=0)"
   ]
  },
  {
   "cell_type": "code",
   "execution_count": 255,
   "metadata": {
    "collapsed": false
   },
   "outputs": [
    {
     "name": "stdout",
     "output_type": "stream",
     "text": [
      " 32/200 [===>..........................] - ETA: 0s\n",
      "acc: 46.5%\n"
     ]
    }
   ],
   "source": [
    "scores = model0.evaluate(X,y)\n",
    "print(\"\\n{0}: {1}%\".format(model0.metrics_names[1], scores[1]*100))"
   ]
  },
  {
   "cell_type": "markdown",
   "metadata": {},
   "source": [
    "<div id='c' />\n",
    "### Parte c)"
   ]
  },
  {
   "cell_type": "code",
   "execution_count": 259,
   "metadata": {
    "collapsed": false
   },
   "outputs": [],
   "source": [
    "model1 = Sequential()\n",
    "#model1.add(Dense(output_dim=10, input_dim=2, activation='relu', init='normal'))\n",
    "model1.add(Dense(output_dim=10, input_dim=2, activation='tanh', init='normal'))\n",
    "model1.add(Dense(output_dim=1, init='normal', activation='sigmoid'))\n",
    "#model0.add(Dense(output_dim=1, activation='softmax'))\n",
    "model1.compile(loss='binary_crossentropy', optimizer='adam', metrics=['accuracy'])\n",
    "#model0.compile(loss='categorical_crossentropy', optimizer='sgd', metrics=['accuracy'])\n",
    "#model1.compile(loss='binary_crossentropy', optimizer='sgd', metrics=['accuracy'])\n",
    "#model1.compile(loss='mean_squared_error', optimizer='sgd', metrics=['accuracy'])"
   ]
  },
  {
   "cell_type": "code",
   "execution_count": 260,
   "metadata": {
    "collapsed": false,
    "scrolled": true
   },
   "outputs": [
    {
     "data": {
      "text/plain": [
       "<keras.callbacks.History at 0x7f8f8178b210>"
      ]
     },
     "execution_count": 260,
     "metadata": {},
     "output_type": "execute_result"
    }
   ],
   "source": [
    "model1.fit(X, y, nb_epoch=1000, verbose=0)"
   ]
  },
  {
   "cell_type": "code",
   "execution_count": 261,
   "metadata": {
    "collapsed": false
   },
   "outputs": [
    {
     "name": "stdout",
     "output_type": "stream",
     "text": [
      " 32/200 [===>..........................] - ETA: 0s\n",
      "acc: 100.0%\n"
     ]
    }
   ],
   "source": [
    "scores = model1.evaluate(X,y)\n",
    "print(\"\\n{0}: {1}%\".format(model1.metrics_names[1], scores[1]*100))"
   ]
  },
  {
   "cell_type": "markdown",
   "metadata": {},
   "source": [
    "<div id='pred' />\n",
    "## 2.-  Predicción del precio de una casa"
   ]
  },
  {
   "cell_type": "code",
   "execution_count": null,
   "metadata": {
    "collapsed": true
   },
   "outputs": [],
   "source": []
  },
  {
   "cell_type": "markdown",
   "metadata": {},
   "source": [
    "<div id='rec' />\n",
    "## 3.-  Reconocimiento de imágenes en CIFAR10"
   ]
  },
  {
   "cell_type": "code",
   "execution_count": null,
   "metadata": {
    "collapsed": true
   },
   "outputs": [],
   "source": []
  }
 ],
 "metadata": {
  "anaconda-cloud": {},
  "kernelspec": {
   "display_name": "Python [conda root]",
   "language": "python",
   "name": "conda-root-py"
  },
  "language_info": {
   "codemirror_mode": {
    "name": "ipython",
    "version": 2
   },
   "file_extension": ".py",
   "mimetype": "text/x-python",
   "name": "python",
   "nbconvert_exporter": "python",
   "pygments_lexer": "ipython2",
   "version": "2.7.12"
  }
 },
 "nbformat": 4,
 "nbformat_minor": 1
}
