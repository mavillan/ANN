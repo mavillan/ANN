{
 "cells": [
  {
   "cell_type": "markdown",
   "metadata": {},
   "source": [
    "<center>\n",
    "    <h1> INF477 - Redes Neuronales Artificiales  </h1>\n",
    "    <h2> Tarea #2 - Parte II: Aprendizaje Semi-Supervisado en NORB </h2> \n",
    "</center>\n",
    "\n",
    "Tarea realizada por:\n",
    "* Alvaro Salinas - `alvaro.salinase@gmail.com` - **rol:** 201073001-8\n",
    "* Martín Villanueva - `martin.villanueva@alumnos.usm.cl` - **rol:** 201104012-0\n",
    "\n",
    "_DI UTFSM. Septiembre 2016._"
   ]
  },
  {
   "cell_type": "markdown",
   "metadata": {},
   "source": [
    "## Tabla de Contenidos\n",
    "* [Aprendizaje Semi-Supervisado en NORB](#norb)\n",
    "    * [Parte (a)](#a)\n",
    "    * [Parte (b)](#b)\n",
    "    * [Parte (c)](#c)\n",
    "    * [Parte (d)](#d)\n",
    "    * [Parte (e)](#e)"
   ]
  },
  {
   "cell_type": "markdown",
   "metadata": {},
   "source": [
    "<div id='norb'/>\n",
    "## Aprendizaje Semi-Supervisado en NORB"
   ]
  },
  {
   "cell_type": "code",
   "execution_count": 1,
   "metadata": {
    "collapsed": true
   },
   "outputs": [],
   "source": [
    "import cPickle\n",
    "import os\n",
    "import numpy as np\n",
    "\n",
    "def unpickle(file):\n",
    "    fo = open(file, 'rb')\n",
    "    dict = cPickle.load(fo)\n",
    "    fo.close()\n",
    "    return dict"
   ]
  },
  {
   "cell_type": "markdown",
   "metadata": {},
   "source": [
    "<div id='a'/>\n",
    "### Parte (a)"
   ]
  },
  {
   "cell_type": "code",
   "execution_count": 6,
   "metadata": {
    "collapsed": false
   },
   "outputs": [],
   "source": [
    "def load_NORB_train_val(PATH):\n",
    "    xtr = []\n",
    "    ytr = []\n",
    "    xt = []\n",
    "    yt = []\n",
    "    xval = []\n",
    "    yval = []\n",
    "\n",
    "    for b in range(1,6):\n",
    "        f = os.path.join(PATH, 'data_batch_%d' % (b, ))\n",
    "        datadict = unpickle(f)\n",
    "        X = datadict['data'].T\n",
    "        Y = np.expand_dims(np.array(datadict['labels']), axis=1)\n",
    "        Z = np.concatenate((X,Y),axis=1)\n",
    "        np.random.shuffle(Z)\n",
    "        xtr.append(Z[5832:,0:-1])\n",
    "        ytr.append(Z[5832:,-1])\n",
    "        xval.append(Z[:5832,0:-1])\n",
    "        yval.append(Z[:5832,-1])\n",
    "        \n",
    "    for b in range(11,12):\n",
    "        f = os.path.join(PATH, 'data_batch_%d' % (b, ))\n",
    "        datadict = unpickle(f)\n",
    "        X = datadict['data'].T\n",
    "        Y = np.expand_dims(np.array(datadict['labels']), axis=1)\n",
    "        Z = np.concatenate((X,Y),axis=1)\n",
    "        np.random.shuffle(Z)\n",
    "        xt.append(Z[:,0:-1])\n",
    "        yt.append(Z[:,-1])\n",
    "\n",
    "    Xtr  = np.concatenate(xtr)\n",
    "    Ytr  = np.concatenate(ytr)\n",
    "    Xt   = np.concatenate(xt)\n",
    "    Yt   = np.concatenate(yt)\n",
    "    Xval = np.concatenate(xval)\n",
    "    Yval = np.concatenate(yval)\n",
    "    del xtr,ytr,xt,yt,xval,yval\n",
    "    return Xtr, Ytr, Xt, Yt, Xval, Yval"
   ]
  },
  {
   "cell_type": "code",
   "execution_count": 7,
   "metadata": {
    "collapsed": false
   },
   "outputs": [],
   "source": [
    "Xtr, Ytr, Xt, Yt, Xval, Yval = load_NORB_train_val('./')"
   ]
  },
  {
   "cell_type": "markdown",
   "metadata": {},
   "source": [
    "<div id='b'/>\n",
    "### Parte (b)"
   ]
  },
  {
   "cell_type": "code",
   "execution_count": 4,
   "metadata": {
    "collapsed": true
   },
   "outputs": [],
   "source": [
    "def scale(x):\n",
    "    vmin,vmax = np.amin(x), np.amax(x)\n",
    "    sx = 2*(x-vmin)/(vmax-vmin)-1\n",
    "    return sx"
   ]
  },
  {
   "cell_type": "code",
   "execution_count": 12,
   "metadata": {
    "collapsed": true
   },
   "outputs": [],
   "source": [
    "def scale2(x):\n",
    "    sx = (x-np.mean(x))/np.std(x)\n",
    "    return sx"
   ]
  },
  {
   "cell_type": "code",
   "execution_count": 8,
   "metadata": {
    "collapsed": false
   },
   "outputs": [],
   "source": [
    "sXtr  = np.array([scale(x) for x in Xtr ])\n",
    "sXt   = np.array([scale(x) for x in Xt  ])\n",
    "sXval = np.array([scale(x) for x in Xval])"
   ]
  },
  {
   "cell_type": "markdown",
   "metadata": {},
   "source": [
    "<div id='c'/>\n",
    "### Parte (c)"
   ]
  },
  {
   "cell_type": "code",
   "execution_count": null,
   "metadata": {
    "collapsed": true
   },
   "outputs": [],
   "source": []
  }
 ],
 "metadata": {
  "anaconda-cloud": {},
  "kernelspec": {
   "display_name": "Python [Root]",
   "language": "python",
   "name": "Python [Root]"
  },
  "language_info": {
   "codemirror_mode": {
    "name": "ipython",
    "version": 2
   },
   "file_extension": ".py",
   "mimetype": "text/x-python",
   "name": "python",
   "nbconvert_exporter": "python",
   "pygments_lexer": "ipython2",
   "version": "2.7.12"
  }
 },
 "nbformat": 4,
 "nbformat_minor": 1
}
