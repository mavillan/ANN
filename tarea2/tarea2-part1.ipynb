{
 "cells": [
  {
   "cell_type": "markdown",
   "metadata": {},
   "source": [
    "<center>\n",
    "    <h1> INF477 - Redes Neuronales Artificiales  </h1>\n",
    "    <h2> Tarea #2 - Parte I: Entrenamiento de Autoencoders (AEs) y RBMs en MNIST </h2> \n",
    "</center>\n",
    "\n",
    "Tarea realizada por:\n",
    "* Alvaro Salinas - `alvaro.salinase@gmail.com` - **rol:** 201073001-8\n",
    "* Martín Villanueva - `martin.villanueva@alumnos.usm.cl` - **rol:** 201104012-0\n",
    "\n",
    "_DI UTFSM. Septiembre 2016._"
   ]
  },
  {
   "cell_type": "markdown",
   "metadata": {},
   "source": [
    "## Tabla de Contenidos\n",
    "* [1.0 Helper](#helper)\n",
    "    * [Parte (a)](#1.0a)\n",
    "* [1.1 Reducción de dimensionalidad](#dim)\n",
    "    * [Parte (a)](#1.1a)\n",
    "    * [Parte (b)](#1.1b)\n",
    "    * [Parte (c)](#1.1c)\n",
    "    * [Parte (d)](#1.1d)\n",
    "    * [Parte (e)](#1.1e)\n",
    "    * [Parte (f)](#1.1f)\n",
    "    * [Parte (g)](#1.1g)\n",
    "    * [Parte (h)](#1.1h)\n",
    "    * [Parte (i)](#1.1i)\n",
    "    * [Parte (j)](#1.1j)\n",
    "* [1.2 Denoising](#den)\n",
    "    * [Parte (a)](#1.2a)\n",
    "    * [Parte (b)](#1.2b)\n",
    "    * [Parte (c)](#1.2c)\n",
    "    * [Parte (d)](#1.2d)\n",
    "    * [Parte (e)](#1.2e)\n",
    "    * [Parte (f)](#1.2f)\n",
    "    * [Parte (g)](#1.2g)\n",
    "* [1.3 Pre-entrenamiento](#pretr)\n",
    "    * [Parte (a)](#1.3a)\n",
    "    * [Parte (b)](#1.3b)\n",
    "    * [Parte (c)](#1.3c)\n",
    "    * [Parte (d)](#1.3d)\n",
    "    * [Parte (e)](#1.3e)\n",
    "    * [Parte (f)](#1.3f)\n",
    "    * [Parte (g)](#1.3g)\n",
    "    * [Parte (h)](#1.3h)"
   ]
  },
  {
   "cell_type": "code",
   "execution_count": 7,
   "metadata": {
    "collapsed": false
   },
   "outputs": [],
   "source": [
    "import numpy as np\n",
    "\n",
    "from keras.datasets import mnist\n",
    "from keras.utils import np_utils"
   ]
  },
  {
   "cell_type": "markdown",
   "metadata": {},
   "source": [
    "<div id='helper'/>\n",
    "## 1.0 - Helper\n",
    "\n",
    "<div id='1.0a'/>\n",
    "### Parte (a)"
   ]
  },
  {
   "cell_type": "code",
   "execution_count": 8,
   "metadata": {
    "collapsed": false
   },
   "outputs": [],
   "source": [
    "def load_helper(nval=1000):\n",
    "    (X_train, y_train), (X_test, y_test) = mnist.load_data()\n",
    "    # 0-1 scaling\n",
    "    X_train = X_train.astype('float32') / 255.\n",
    "    X_test = X_test.astype('float32') / 255.\n",
    "    # reshaping\n",
    "    X_train = X_train.reshape((len(X_train), np.prod(X_train.shape[1:])))\n",
    "    X_test = X_test.reshape((len(X_test), np.prod(X_test.shape[1:])))\n",
    "    # training / validation split\n",
    "    X_val = X_train[-nval:]\n",
    "    y_val = y_train[-nval:]\n",
    "    X_train = X_train[:-nval]\n",
    "    y_train = y_train[:-nval]\n",
    "    # correct format\n",
    "    y_train = np_utils.to_categorical(y_train, 10)\n",
    "    y_val = np_utils.to_categorical(y_val, 10)\n",
    "    y_test = np_utils.to_categorical(y_test, 10)\n",
    "    return X_train, X_val, X_test, y_train, y_val, y_test    "
   ]
  },
  {
   "cell_type": "code",
   "execution_count": 9,
   "metadata": {
    "collapsed": false
   },
   "outputs": [],
   "source": [
    "X_train, X_val, X_test, y_train, y_val, y_test = load_helper()"
   ]
  },
  {
   "cell_type": "markdown",
   "metadata": {},
   "source": [
    "## 1.1 - Reducción de dimensionalidad"
   ]
  },
  {
   "cell_type": "code",
   "execution_count": null,
   "metadata": {
    "collapsed": true
   },
   "outputs": [],
   "source": []
  }
 ],
 "metadata": {
  "anaconda-cloud": {},
  "kernelspec": {
   "display_name": "Python [conda root]",
   "language": "python",
   "name": "conda-root-py"
  },
  "language_info": {
   "codemirror_mode": {
    "name": "ipython",
    "version": 2
   },
   "file_extension": ".py",
   "mimetype": "text/x-python",
   "name": "python",
   "nbconvert_exporter": "python",
   "pygments_lexer": "ipython2",
   "version": "2.7.12"
  }
 },
 "nbformat": 4,
 "nbformat_minor": 1
}
