{
 "cells": [
  {
   "cell_type": "markdown",
   "metadata": {},
   "source": [
    "<center>\n",
    "    <h1> INF477 - Redes Neuronales Artificiales  </h1>\n",
    "    <h2> Tarea #3 - Parte I: Entrenamiento de RNNs en una serie de tiempo </h2> \n",
    "</center>\n",
    "\n",
    "Tarea realizada por:\n",
    "* Alvaro Salinas - `alvaro.salinase@gmail.com` - **rol:** 201073001-8\n",
    "* Martín Villanueva - `martin.villanueva@alumnos.usm.cl` - **rol:** 201104012-0\n",
    "\n",
    "_DI UTFSM. Noviembre 2016._"
   ]
  },
  {
   "cell_type": "markdown",
   "metadata": {},
   "source": [
    "## Tabla de Contenidos\n",
    "* [Parte (a)](#a)\n",
    "* [Parte (b)](#b)\n",
    "* [Parte (c)](#c)\n",
    "* [Parte (d)](#d)\n",
    "* [Parte (e)](#e)\n",
    "* [Parte (f)](#f)\n",
    "* [Parte (g)](#g)\n",
    "* [Parte (h)](#h)\n",
    "* [Parte (i)](#i)\n",
    "* [Parte (j)](#j)\n",
    "* [Parte (k)](#k)\n",
    "* [Parte (l)](#l)\n",
    "* [Parte (m)](#m)"
   ]
  },
  {
   "cell_type": "code",
   "execution_count": null,
   "metadata": {
    "collapsed": true
   },
   "outputs": [],
   "source": []
  }
 ],
 "metadata": {
  "anaconda-cloud": {},
  "kernelspec": {
   "display_name": "Python [conda root]",
   "language": "python",
   "name": "conda-root-py"
  },
  "language_info": {
   "codemirror_mode": {
    "name": "ipython",
    "version": 2
   },
   "file_extension": ".py",
   "mimetype": "text/x-python",
   "name": "python",
   "nbconvert_exporter": "python",
   "pygments_lexer": "ipython2",
   "version": "2.7.12"
  }
 },
 "nbformat": 4,
 "nbformat_minor": 1
}
